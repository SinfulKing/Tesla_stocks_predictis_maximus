{
 "cells": [
  {
   "cell_type": "code",
   "execution_count": 1,
   "id": "0dd18805",
   "metadata": {},
   "outputs": [],
   "source": [
    "# Common\n",
    "import keras\n",
    "import numpy as np\n",
    "import pandas as pd\n",
    "import tensorflow as tf\n",
    "\n",
    "# Data\n",
    "from tensorflow.image import resize\n",
    "from sklearn.model_selection import StratifiedShuffleSplit\n",
    "from tensorflow.keras.preprocessing.image import load_img, img_to_array\n",
    "\n",
    "# Data Viz\n",
    "import seaborn as sns\n",
    "import matplotlib.pyplot as plt\n",
    "\n",
    "# Model\n",
    "from keras.layers import LSTM, Dense, Dropout\n",
    "from keras import Sequential\n",
    "\n",
    "# Callbacks \n",
    "from keras.callbacks import EarlyStopping, ModelCheckpoint\n",
    "\n",
    "# Model Performance\n",
    "from sklearn.metrics import mean_squared_error\n",
    "\n",
    "# Data preprocess\n",
    "from sklearn.preprocessing import MinMaxScaler\n",
    "\n",
    "# Model Viz\n",
    "from tensorflow.keras.utils import plot_model\n",
    "\n",
    "import os"
   ]
  },
  {
   "cell_type": "code",
   "execution_count": 2,
   "id": "fa05b01f",
   "metadata": {},
   "outputs": [],
   "source": [
    "#getting the data\n",
    "data = pd.read_csv (r'./tesla.csv')"
   ]
  },
  {
   "cell_type": "code",
   "execution_count": 3,
   "id": "c2fbef26",
   "metadata": {},
   "outputs": [
    {
     "data": {
      "text/html": [
       "<div>\n",
       "<style scoped>\n",
       "    .dataframe tbody tr th:only-of-type {\n",
       "        vertical-align: middle;\n",
       "    }\n",
       "\n",
       "    .dataframe tbody tr th {\n",
       "        vertical-align: top;\n",
       "    }\n",
       "\n",
       "    .dataframe thead th {\n",
       "        text-align: right;\n",
       "    }\n",
       "</style>\n",
       "<table border=\"1\" class=\"dataframe\">\n",
       "  <thead>\n",
       "    <tr style=\"text-align: right;\">\n",
       "      <th></th>\n",
       "      <th>Date</th>\n",
       "      <th>Open</th>\n",
       "      <th>High</th>\n",
       "      <th>Low</th>\n",
       "      <th>Close</th>\n",
       "      <th>Adj Close</th>\n",
       "      <th>Volume</th>\n",
       "    </tr>\n",
       "  </thead>\n",
       "  <tbody>\n",
       "    <tr>\n",
       "      <th>0</th>\n",
       "      <td>2010-06-30</td>\n",
       "      <td>1.719333</td>\n",
       "      <td>2.028000</td>\n",
       "      <td>1.553333</td>\n",
       "      <td>1.588667</td>\n",
       "      <td>1.588667</td>\n",
       "      <td>257806500</td>\n",
       "    </tr>\n",
       "    <tr>\n",
       "      <th>1</th>\n",
       "      <td>2010-07-01</td>\n",
       "      <td>1.666667</td>\n",
       "      <td>1.728000</td>\n",
       "      <td>1.351333</td>\n",
       "      <td>1.464000</td>\n",
       "      <td>1.464000</td>\n",
       "      <td>123282000</td>\n",
       "    </tr>\n",
       "    <tr>\n",
       "      <th>2</th>\n",
       "      <td>2010-07-02</td>\n",
       "      <td>1.533333</td>\n",
       "      <td>1.540000</td>\n",
       "      <td>1.247333</td>\n",
       "      <td>1.280000</td>\n",
       "      <td>1.280000</td>\n",
       "      <td>77097000</td>\n",
       "    </tr>\n",
       "    <tr>\n",
       "      <th>3</th>\n",
       "      <td>2010-07-06</td>\n",
       "      <td>1.333333</td>\n",
       "      <td>1.333333</td>\n",
       "      <td>1.055333</td>\n",
       "      <td>1.074000</td>\n",
       "      <td>1.074000</td>\n",
       "      <td>103003500</td>\n",
       "    </tr>\n",
       "    <tr>\n",
       "      <th>4</th>\n",
       "      <td>2010-07-07</td>\n",
       "      <td>1.093333</td>\n",
       "      <td>1.108667</td>\n",
       "      <td>0.998667</td>\n",
       "      <td>1.053333</td>\n",
       "      <td>1.053333</td>\n",
       "      <td>103825500</td>\n",
       "    </tr>\n",
       "  </tbody>\n",
       "</table>\n",
       "</div>"
      ],
      "text/plain": [
       "         Date      Open      High       Low     Close  Adj Close     Volume\n",
       "0  2010-06-30  1.719333  2.028000  1.553333  1.588667   1.588667  257806500\n",
       "1  2010-07-01  1.666667  1.728000  1.351333  1.464000   1.464000  123282000\n",
       "2  2010-07-02  1.533333  1.540000  1.247333  1.280000   1.280000   77097000\n",
       "3  2010-07-06  1.333333  1.333333  1.055333  1.074000   1.074000  103003500\n",
       "4  2010-07-07  1.093333  1.108667  0.998667  1.053333   1.053333  103825500"
      ]
     },
     "execution_count": 3,
     "metadata": {},
     "output_type": "execute_result"
    }
   ],
   "source": [
    "data.head()  #open represents the price at the beginning of the day /close for the end\n",
    "                #high represents the highest price for a given day and vis versa for low\n",
    "                #volume represents the amount of stocks sold for a day\n",
    "                #ajd close represents the modified closing price based on corporate actions(like dividends..)"
   ]
  },
  {
   "cell_type": "code",
   "execution_count": 4,
   "id": "baa20e0c",
   "metadata": {},
   "outputs": [
    {
     "data": {
      "text/plain": [
       "3077"
      ]
     },
     "execution_count": 4,
     "metadata": {},
     "output_type": "execute_result"
    }
   ],
   "source": [
    "len(data)"
   ]
  },
  {
   "cell_type": "code",
   "execution_count": 5,
   "id": "84217962",
   "metadata": {},
   "outputs": [
    {
     "data": {
      "text/html": [
       "<div>\n",
       "<style scoped>\n",
       "    .dataframe tbody tr th:only-of-type {\n",
       "        vertical-align: middle;\n",
       "    }\n",
       "\n",
       "    .dataframe tbody tr th {\n",
       "        vertical-align: top;\n",
       "    }\n",
       "\n",
       "    .dataframe thead th {\n",
       "        text-align: right;\n",
       "    }\n",
       "</style>\n",
       "<table border=\"1\" class=\"dataframe\">\n",
       "  <thead>\n",
       "    <tr style=\"text-align: right;\">\n",
       "      <th></th>\n",
       "      <th>Date</th>\n",
       "      <th>Close</th>\n",
       "    </tr>\n",
       "  </thead>\n",
       "  <tbody>\n",
       "    <tr>\n",
       "      <th>0</th>\n",
       "      <td>2010-06-30</td>\n",
       "      <td>1.588667</td>\n",
       "    </tr>\n",
       "    <tr>\n",
       "      <th>1</th>\n",
       "      <td>2010-07-01</td>\n",
       "      <td>1.464000</td>\n",
       "    </tr>\n",
       "    <tr>\n",
       "      <th>2</th>\n",
       "      <td>2010-07-02</td>\n",
       "      <td>1.280000</td>\n",
       "    </tr>\n",
       "    <tr>\n",
       "      <th>3</th>\n",
       "      <td>2010-07-06</td>\n",
       "      <td>1.074000</td>\n",
       "    </tr>\n",
       "    <tr>\n",
       "      <th>4</th>\n",
       "      <td>2010-07-07</td>\n",
       "      <td>1.053333</td>\n",
       "    </tr>\n",
       "  </tbody>\n",
       "</table>\n",
       "</div>"
      ],
      "text/plain": [
       "         Date     Close\n",
       "0  2010-06-30  1.588667\n",
       "1  2010-07-01  1.464000\n",
       "2  2010-07-02  1.280000\n",
       "3  2010-07-06  1.074000\n",
       "4  2010-07-07  1.053333"
      ]
     },
     "execution_count": 5,
     "metadata": {},
     "output_type": "execute_result"
    }
   ],
   "source": [
    "data = data[['Date', 'Close']] #predictions will be daily.\n",
    "data.head()"
   ]
  },
  {
   "cell_type": "code",
   "execution_count": 6,
   "id": "0928101d",
   "metadata": {},
   "outputs": [],
   "source": [
    "data.Date = pd.to_datetime(data.Date, format = '%Y/%m/%d')#converting the date to panda format\n",
    "plot_data = data.set_index('Date')"
   ]
  },
  {
   "cell_type": "code",
   "execution_count": 7,
   "id": "d989aa36",
   "metadata": {},
   "outputs": [
    {
     "data": {
      "text/plain": [
       "<AxesSubplot:xlabel='Date'>"
      ]
     },
     "execution_count": 7,
     "metadata": {},
     "output_type": "execute_result"
    },
    {
     "data": {
      "image/png": "[encoded data removed]",
      "text/plain": [
       "<Figure size 720x360 with 1 Axes>"
      ]
     },
     "metadata": {
      "needs_background": "light"
     },
     "output_type": "display_data"
    }
   ],
   "source": [
    "plot_data['Close'].plot(figsize=(10,5)) "
   ]
  },
  {
   "cell_type": "code",
   "execution_count": 8,
   "id": "b7000b8c",
   "metadata": {},
   "outputs": [],
   "source": [
    "data = data.loc[2600:]"
   ]
  },
  {
   "cell_type": "code",
   "execution_count": 9,
   "id": "0ece04b0",
   "metadata": {},
   "outputs": [
    {
     "data": {
      "text/html": [
       "<div>\n",
       "<style scoped>\n",
       "    .dataframe tbody tr th:only-of-type {\n",
       "        vertical-align: middle;\n",
       "    }\n",
       "\n",
       "    .dataframe tbody tr th {\n",
       "        vertical-align: top;\n",
       "    }\n",
       "\n",
       "    .dataframe thead th {\n",
       "        text-align: right;\n",
       "    }\n",
       "</style>\n",
       "<table border=\"1\" class=\"dataframe\">\n",
       "  <thead>\n",
       "    <tr style=\"text-align: right;\">\n",
       "      <th></th>\n",
       "      <th>Close</th>\n",
       "    </tr>\n",
       "  </thead>\n",
       "  <tbody>\n",
       "    <tr>\n",
       "      <th>0</th>\n",
       "      <td>141.559998</td>\n",
       "    </tr>\n",
       "    <tr>\n",
       "      <th>1</th>\n",
       "      <td>135.339996</td>\n",
       "    </tr>\n",
       "    <tr>\n",
       "      <th>2</th>\n",
       "      <td>136.943329</td>\n",
       "    </tr>\n",
       "    <tr>\n",
       "      <th>3</th>\n",
       "      <td>129.346664</td>\n",
       "    </tr>\n",
       "    <tr>\n",
       "      <th>4</th>\n",
       "      <td>133.503326</td>\n",
       "    </tr>\n",
       "  </tbody>\n",
       "</table>\n",
       "</div>"
      ],
      "text/plain": [
       "        Close\n",
       "0  141.559998\n",
       "1  135.339996\n",
       "2  136.943329\n",
       "3  129.346664\n",
       "4  133.503326"
      ]
     },
     "execution_count": 9,
     "metadata": {},
     "output_type": "execute_result"
    }
   ],
   "source": [
    "data = data.drop('Date', axis = 1)\n",
    "data = data.reset_index(drop = True)\n",
    "data = data.astype('float32')\n",
    "data.head()"
   ]
  },
  {
   "cell_type": "code",
   "execution_count": 10,
   "id": "62586526",
   "metadata": {},
   "outputs": [
    {
     "data": {
      "text/plain": [
       "array([[0.04352218],\n",
       "       [0.02135721],\n",
       "       [0.02707067],\n",
       "       [0.        ],\n",
       "       [0.01481226],\n",
       "       [0.04259568],\n",
       "       [0.03912717],\n",
       "       [0.05945098],\n",
       "       [0.04978204],\n",
       "       [0.03945976]], dtype=float32)"
      ]
     },
     "execution_count": 10,
     "metadata": {},
     "output_type": "execute_result"
    }
   ],
   "source": [
    "scaler = MinMaxScaler(feature_range=(0,1))\n",
    "data = scaler.fit_transform(data) #scaling the data\n",
    "data[:10]"
   ]
  },
  {
   "cell_type": "code",
   "execution_count": 11,
   "id": "a790b25f",
   "metadata": {},
   "outputs": [],
   "source": [
    "train_size = int(len(data)*0.8)\n",
    "test_size = len(data) - train_size\n",
    "train_set,test_set = data[:train_size], data[train_size:]"
   ]
  },
  {
   "cell_type": "code",
   "execution_count": 12,
   "id": "e7117dd4",
   "metadata": {},
   "outputs": [],
   "source": [
    "#method to find features for each instances\n",
    "def features(data, window_size):\n",
    "    X,Y = [],[]\n",
    "    for i in range(len(data) - window_size - 1): #for the number of elts of a given data between 0 and the total\n",
    "                                                 #minus window_size -1 since len is an int not an index\n",
    "        window = data[i:(i + window_size)]       #the index of elts inside the window\n",
    "        X.append(window)                         #we append to X the elts whose indexes are inside the window\n",
    "        Y.append(data[i + window_size])          #and in Y we append the target, i.e the size of the window +\n",
    "    return np.array(X), np.array(Y)              #i; it returns the arrays of elts and the target."
   ]
  },
  {
   "cell_type": "code",
   "execution_count": 13,
   "id": "af92f4d7",
   "metadata": {},
   "outputs": [],
   "source": [
    "window_size = 20\n",
    "X_train, Y_train = features(train_set, window_size)\n",
    "\n",
    "X_test, Y_test = features(test_set, window_size)\n",
    "\n",
    "# Reshape to the format of [samples, time steps, features]\n",
    "X_train = np.reshape(X_train, (X_train.shape[0], 1, X_train.shape[1]))\n",
    "\n",
    "X_test = np.reshape(X_test, (X_test.shape[0], 1, X_test.shape[1]))"
   ]
  },
  {
   "cell_type": "code",
   "execution_count": 23,
   "id": "3b72a400",
   "metadata": {},
   "outputs": [],
   "source": [
    "tf.random.set_seed(11)\n",
    "np.random.seed(11)\n",
    "\n",
    "def last_time_step_mse(Y_true, Y_pred):\n",
    "    return keras.metrics.mean_squared_error(Y_true[:, -1], Y_pred[:, -1])"
   ]
  },
  {
   "cell_type": "code",
   "execution_count": 24,
   "id": "83e6c07a",
   "metadata": {},
   "outputs": [],
   "source": [
    "from keras.layers import GRU\n",
    "model = Sequential()\n",
    "model.add(GRU(units = 50,activation = 'relu', \n",
    "                           return_sequences=True, input_shape = (X_train.shape[1], window_size)))\n",
    "model.add(Dropout(0.2))\n",
    "\n",
    "model.add(Dense(1, activation = 'linear'))\n",
    "model.compile(loss=\"mse\", optimizer=\"adam\", metrics=[last_time_step_mse])"
   ]
  },
  {
   "cell_type": "code",
   "execution_count": 25,
   "id": "98de7dc6",
   "metadata": {},
   "outputs": [
    {
     "name": "stdout",
     "output_type": "stream",
     "text": [
      "Epoch 1/100\n",
      "18/18 [==============================] - 1s 20ms/step - loss: 0.1260 - last_time_step_mse: 0.1260 - val_loss: 0.0114 - val_last_time_step_mse: 0.0110\n",
      "Epoch 2/100\n",
      "18/18 [==============================] - 0s 4ms/step - loss: 0.0388 - last_time_step_mse: 0.0388 - val_loss: 0.0058 - val_last_time_step_mse: 0.0061\n",
      "Epoch 3/100\n",
      "18/18 [==============================] - 0s 5ms/step - loss: 0.0217 - last_time_step_mse: 0.0217 - val_loss: 0.0058 - val_last_time_step_mse: 0.0056\n",
      "Epoch 4/100\n",
      "18/18 [==============================] - 0s 4ms/step - loss: 0.0184 - last_time_step_mse: 0.0184 - val_loss: 0.0038 - val_last_time_step_mse: 0.0038\n",
      "Epoch 5/100\n",
      "18/18 [==============================] - 0s 5ms/step - loss: 0.0184 - last_time_step_mse: 0.0184 - val_loss: 0.0042 - val_last_time_step_mse: 0.0041\n",
      "Epoch 6/100\n",
      "18/18 [==============================] - 0s 6ms/step - loss: 0.0151 - last_time_step_mse: 0.0151 - val_loss: 0.0043 - val_last_time_step_mse: 0.0042\n",
      "Epoch 7/100\n",
      "18/18 [==============================] - 0s 5ms/step - loss: 0.0145 - last_time_step_mse: 0.0145 - val_loss: 0.0034 - val_last_time_step_mse: 0.0034\n",
      "Epoch 8/100\n",
      "18/18 [==============================] - 0s 6ms/step - loss: 0.0126 - last_time_step_mse: 0.0126 - val_loss: 0.0035 - val_last_time_step_mse: 0.0034\n",
      "Epoch 9/100\n",
      "18/18 [==============================] - 0s 7ms/step - loss: 0.0144 - last_time_step_mse: 0.0144 - val_loss: 0.0033 - val_last_time_step_mse: 0.0032\n",
      "Epoch 10/100\n",
      "18/18 [==============================] - 0s 7ms/step - loss: 0.0137 - last_time_step_mse: 0.0137 - val_loss: 0.0033 - val_last_time_step_mse: 0.0033\n",
      "Epoch 11/100\n",
      "18/18 [==============================] - 0s 5ms/step - loss: 0.0129 - last_time_step_mse: 0.0129 - val_loss: 0.0030 - val_last_time_step_mse: 0.0029\n",
      "Epoch 12/100\n",
      "18/18 [==============================] - 0s 4ms/step - loss: 0.0122 - last_time_step_mse: 0.0122 - val_loss: 0.0031 - val_last_time_step_mse: 0.0030\n",
      "Epoch 13/100\n",
      "18/18 [==============================] - 0s 7ms/step - loss: 0.0100 - last_time_step_mse: 0.0100 - val_loss: 0.0028 - val_last_time_step_mse: 0.0027\n",
      "Epoch 14/100\n",
      "18/18 [==============================] - 0s 4ms/step - loss: 0.0104 - last_time_step_mse: 0.0104 - val_loss: 0.0028 - val_last_time_step_mse: 0.0027\n",
      "Epoch 15/100\n",
      "18/18 [==============================] - 0s 5ms/step - loss: 0.0120 - last_time_step_mse: 0.0120 - val_loss: 0.0026 - val_last_time_step_mse: 0.0026\n",
      "Epoch 16/100\n",
      "18/18 [==============================] - 0s 4ms/step - loss: 0.0100 - last_time_step_mse: 0.0100 - val_loss: 0.0026 - val_last_time_step_mse: 0.0025\n",
      "Epoch 17/100\n",
      "18/18 [==============================] - 0s 4ms/step - loss: 0.0102 - last_time_step_mse: 0.0102 - val_loss: 0.0026 - val_last_time_step_mse: 0.0026\n",
      "Epoch 18/100\n",
      "18/18 [==============================] - 0s 5ms/step - loss: 0.0092 - last_time_step_mse: 0.0092 - val_loss: 0.0024 - val_last_time_step_mse: 0.0024\n",
      "Epoch 19/100\n",
      "18/18 [==============================] - 0s 3ms/step - loss: 0.0101 - last_time_step_mse: 0.0101 - val_loss: 0.0024 - val_last_time_step_mse: 0.0024\n",
      "Epoch 20/100\n",
      "18/18 [==============================] - 0s 4ms/step - loss: 0.0100 - last_time_step_mse: 0.0100 - val_loss: 0.0026 - val_last_time_step_mse: 0.0026\n",
      "Epoch 21/100\n",
      "18/18 [==============================] - 0s 4ms/step - loss: 0.0117 - last_time_step_mse: 0.0117 - val_loss: 0.0023 - val_last_time_step_mse: 0.0023\n",
      "Epoch 22/100\n",
      "18/18 [==============================] - 0s 4ms/step - loss: 0.0089 - last_time_step_mse: 0.0089 - val_loss: 0.0023 - val_last_time_step_mse: 0.0023\n",
      "Epoch 23/100\n",
      "18/18 [==============================] - 0s 5ms/step - loss: 0.0095 - last_time_step_mse: 0.0095 - val_loss: 0.0024 - val_last_time_step_mse: 0.0023\n",
      "Epoch 24/100\n",
      "18/18 [==============================] - 0s 4ms/step - loss: 0.0085 - last_time_step_mse: 0.0085 - val_loss: 0.0025 - val_last_time_step_mse: 0.0025\n",
      "Epoch 25/100\n",
      "18/18 [==============================] - 0s 6ms/step - loss: 0.0088 - last_time_step_mse: 0.0088 - val_loss: 0.0022 - val_last_time_step_mse: 0.0022\n",
      "Epoch 26/100\n",
      "18/18 [==============================] - 0s 4ms/step - loss: 0.0081 - last_time_step_mse: 0.0081 - val_loss: 0.0022 - val_last_time_step_mse: 0.0022\n",
      "Epoch 27/100\n",
      "18/18 [==============================] - 0s 4ms/step - loss: 0.0081 - last_time_step_mse: 0.0081 - val_loss: 0.0021 - val_last_time_step_mse: 0.0021\n",
      "Epoch 28/100\n",
      "18/18 [==============================] - 0s 4ms/step - loss: 0.0071 - last_time_step_mse: 0.0071 - val_loss: 0.0021 - val_last_time_step_mse: 0.0021\n",
      "Epoch 29/100\n",
      "18/18 [==============================] - 0s 4ms/step - loss: 0.0067 - last_time_step_mse: 0.0067 - val_loss: 0.0020 - val_last_time_step_mse: 0.0020\n",
      "Epoch 30/100\n",
      "18/18 [==============================] - 0s 4ms/step - loss: 0.0076 - last_time_step_mse: 0.0076 - val_loss: 0.0021 - val_last_time_step_mse: 0.0021\n",
      "Epoch 31/100\n",
      "18/18 [==============================] - 0s 4ms/step - loss: 0.0086 - last_time_step_mse: 0.0086 - val_loss: 0.0020 - val_last_time_step_mse: 0.0020\n",
      "Epoch 32/100\n",
      "18/18 [==============================] - 0s 4ms/step - loss: 0.0083 - last_time_step_mse: 0.0083 - val_loss: 0.0020 - val_last_time_step_mse: 0.0020\n",
      "Epoch 33/100\n",
      "18/18 [==============================] - 0s 4ms/step - loss: 0.0066 - last_time_step_mse: 0.0066 - val_loss: 0.0019 - val_last_time_step_mse: 0.0019\n",
      "Epoch 34/100\n",
      "18/18 [==============================] - 0s 4ms/step - loss: 0.0069 - last_time_step_mse: 0.0069 - val_loss: 0.0020 - val_last_time_step_mse: 0.0020\n",
      "Epoch 35/100\n",
      "18/18 [==============================] - 0s 4ms/step - loss: 0.0068 - last_time_step_mse: 0.0068 - val_loss: 0.0020 - val_last_time_step_mse: 0.0020\n",
      "Epoch 36/100\n",
      "18/18 [==============================] - 0s 5ms/step - loss: 0.0080 - last_time_step_mse: 0.0080 - val_loss: 0.0018 - val_last_time_step_mse: 0.0018\n",
      "Epoch 37/100\n",
      "18/18 [==============================] - 0s 4ms/step - loss: 0.0068 - last_time_step_mse: 0.0068 - val_loss: 0.0021 - val_last_time_step_mse: 0.0021\n",
      "Epoch 38/100\n",
      "18/18 [==============================] - 0s 4ms/step - loss: 0.0083 - last_time_step_mse: 0.0083 - val_loss: 0.0020 - val_last_time_step_mse: 0.0020\n",
      "Epoch 39/100\n",
      "18/18 [==============================] - 0s 3ms/step - loss: 0.0072 - last_time_step_mse: 0.0072 - val_loss: 0.0019 - val_last_time_step_mse: 0.0019\n",
      "Epoch 40/100\n",
      "18/18 [==============================] - 0s 4ms/step - loss: 0.0080 - last_time_step_mse: 0.0080 - val_loss: 0.0018 - val_last_time_step_mse: 0.0018\n",
      "Epoch 41/100\n",
      "18/18 [==============================] - 0s 4ms/step - loss: 0.0063 - last_time_step_mse: 0.0063 - val_loss: 0.0018 - val_last_time_step_mse: 0.0018\n",
      "Epoch 42/100\n",
      "18/18 [==============================] - 0s 4ms/step - loss: 0.0076 - last_time_step_mse: 0.0076 - val_loss: 0.0019 - val_last_time_step_mse: 0.0019\n",
      "Epoch 43/100\n",
      "18/18 [==============================] - 0s 4ms/step - loss: 0.0062 - last_time_step_mse: 0.0062 - val_loss: 0.0019 - val_last_time_step_mse: 0.0019\n",
      "Epoch 44/100\n",
      "18/18 [==============================] - 0s 4ms/step - loss: 0.0068 - last_time_step_mse: 0.0068 - val_loss: 0.0018 - val_last_time_step_mse: 0.0018\n",
      "Epoch 45/100\n",
      "18/18 [==============================] - 0s 4ms/step - loss: 0.0068 - last_time_step_mse: 0.0068 - val_loss: 0.0017 - val_last_time_step_mse: 0.0017\n",
      "Epoch 46/100\n",
      "18/18 [==============================] - 0s 4ms/step - loss: 0.0071 - last_time_step_mse: 0.0071 - val_loss: 0.0018 - val_last_time_step_mse: 0.0018\n",
      "Epoch 47/100\n",
      "18/18 [==============================] - 0s 4ms/step - loss: 0.0073 - last_time_step_mse: 0.0073 - val_loss: 0.0018 - val_last_time_step_mse: 0.0018\n",
      "Epoch 48/100\n",
      "18/18 [==============================] - 0s 4ms/step - loss: 0.0070 - last_time_step_mse: 0.0070 - val_loss: 0.0017 - val_last_time_step_mse: 0.0017\n",
      "Epoch 49/100\n",
      "18/18 [==============================] - 0s 4ms/step - loss: 0.0073 - last_time_step_mse: 0.0073 - val_loss: 0.0020 - val_last_time_step_mse: 0.0020\n",
      "Epoch 50/100\n",
      "18/18 [==============================] - 0s 4ms/step - loss: 0.0064 - last_time_step_mse: 0.0064 - val_loss: 0.0017 - val_last_time_step_mse: 0.0016\n",
      "Epoch 51/100\n"
     ]
    },
    {
     "name": "stdout",
     "output_type": "stream",
     "text": [
      "18/18 [==============================] - 0s 4ms/step - loss: 0.0064 - last_time_step_mse: 0.0064 - val_loss: 0.0018 - val_last_time_step_mse: 0.0018\n",
      "Epoch 52/100\n",
      "18/18 [==============================] - 0s 5ms/step - loss: 0.0069 - last_time_step_mse: 0.0069 - val_loss: 0.0017 - val_last_time_step_mse: 0.0017\n",
      "Epoch 53/100\n",
      "18/18 [==============================] - 0s 5ms/step - loss: 0.0068 - last_time_step_mse: 0.0068 - val_loss: 0.0018 - val_last_time_step_mse: 0.0017\n",
      "Epoch 54/100\n",
      "18/18 [==============================] - 0s 4ms/step - loss: 0.0063 - last_time_step_mse: 0.0063 - val_loss: 0.0016 - val_last_time_step_mse: 0.0016\n",
      "Epoch 55/100\n",
      "18/18 [==============================] - 0s 5ms/step - loss: 0.0069 - last_time_step_mse: 0.0069 - val_loss: 0.0016 - val_last_time_step_mse: 0.0016\n",
      "Epoch 56/100\n",
      "18/18 [==============================] - 0s 4ms/step - loss: 0.0067 - last_time_step_mse: 0.0067 - val_loss: 0.0016 - val_last_time_step_mse: 0.0016\n",
      "Epoch 57/100\n",
      "18/18 [==============================] - 0s 6ms/step - loss: 0.0060 - last_time_step_mse: 0.0060 - val_loss: 0.0018 - val_last_time_step_mse: 0.0018\n",
      "Epoch 58/100\n",
      "18/18 [==============================] - 0s 5ms/step - loss: 0.0063 - last_time_step_mse: 0.0063 - val_loss: 0.0017 - val_last_time_step_mse: 0.0017\n",
      "Epoch 59/100\n",
      "18/18 [==============================] - 0s 5ms/step - loss: 0.0064 - last_time_step_mse: 0.0064 - val_loss: 0.0015 - val_last_time_step_mse: 0.0015\n",
      "Epoch 60/100\n",
      "18/18 [==============================] - 0s 4ms/step - loss: 0.0067 - last_time_step_mse: 0.0067 - val_loss: 0.0016 - val_last_time_step_mse: 0.0016\n",
      "Epoch 61/100\n",
      "18/18 [==============================] - 0s 3ms/step - loss: 0.0061 - last_time_step_mse: 0.0061 - val_loss: 0.0016 - val_last_time_step_mse: 0.0016\n",
      "Epoch 62/100\n",
      "18/18 [==============================] - 0s 4ms/step - loss: 0.0063 - last_time_step_mse: 0.0063 - val_loss: 0.0016 - val_last_time_step_mse: 0.0016\n",
      "Epoch 63/100\n",
      "18/18 [==============================] - 0s 4ms/step - loss: 0.0049 - last_time_step_mse: 0.0049 - val_loss: 0.0015 - val_last_time_step_mse: 0.0015\n",
      "Epoch 64/100\n",
      "18/18 [==============================] - 0s 4ms/step - loss: 0.0068 - last_time_step_mse: 0.0068 - val_loss: 0.0020 - val_last_time_step_mse: 0.0020\n",
      "Epoch 65/100\n",
      "18/18 [==============================] - 0s 4ms/step - loss: 0.0073 - last_time_step_mse: 0.0073 - val_loss: 0.0016 - val_last_time_step_mse: 0.0015\n",
      "Epoch 66/100\n",
      "18/18 [==============================] - 0s 4ms/step - loss: 0.0061 - last_time_step_mse: 0.0061 - val_loss: 0.0016 - val_last_time_step_mse: 0.0016\n",
      "Epoch 67/100\n",
      "18/18 [==============================] - 0s 4ms/step - loss: 0.0054 - last_time_step_mse: 0.0054 - val_loss: 0.0017 - val_last_time_step_mse: 0.0016\n",
      "Epoch 68/100\n",
      "18/18 [==============================] - 0s 4ms/step - loss: 0.0064 - last_time_step_mse: 0.0064 - val_loss: 0.0015 - val_last_time_step_mse: 0.0015\n",
      "Epoch 69/100\n",
      "18/18 [==============================] - 0s 3ms/step - loss: 0.0067 - last_time_step_mse: 0.0067 - val_loss: 0.0018 - val_last_time_step_mse: 0.0018\n",
      "Epoch 70/100\n",
      "18/18 [==============================] - 0s 3ms/step - loss: 0.0068 - last_time_step_mse: 0.0068 - val_loss: 0.0015 - val_last_time_step_mse: 0.0015\n",
      "Epoch 71/100\n",
      "18/18 [==============================] - 0s 4ms/step - loss: 0.0064 - last_time_step_mse: 0.0064 - val_loss: 0.0017 - val_last_time_step_mse: 0.0016\n",
      "Epoch 72/100\n",
      "18/18 [==============================] - 0s 4ms/step - loss: 0.0057 - last_time_step_mse: 0.0057 - val_loss: 0.0016 - val_last_time_step_mse: 0.0016\n",
      "Epoch 73/100\n",
      "18/18 [==============================] - 0s 4ms/step - loss: 0.0051 - last_time_step_mse: 0.0051 - val_loss: 0.0016 - val_last_time_step_mse: 0.0016\n",
      "Epoch 74/100\n",
      "18/18 [==============================] - 0s 5ms/step - loss: 0.0051 - last_time_step_mse: 0.0051 - val_loss: 0.0014 - val_last_time_step_mse: 0.0014\n",
      "Epoch 75/100\n",
      "18/18 [==============================] - 0s 4ms/step - loss: 0.0051 - last_time_step_mse: 0.0051 - val_loss: 0.0014 - val_last_time_step_mse: 0.0014\n",
      "Epoch 76/100\n",
      "18/18 [==============================] - 0s 3ms/step - loss: 0.0059 - last_time_step_mse: 0.0059 - val_loss: 0.0014 - val_last_time_step_mse: 0.0014\n",
      "Epoch 77/100\n",
      "18/18 [==============================] - 0s 4ms/step - loss: 0.0057 - last_time_step_mse: 0.0057 - val_loss: 0.0014 - val_last_time_step_mse: 0.0014\n",
      "Epoch 78/100\n",
      "18/18 [==============================] - 0s 4ms/step - loss: 0.0054 - last_time_step_mse: 0.0054 - val_loss: 0.0014 - val_last_time_step_mse: 0.0014\n",
      "Epoch 79/100\n",
      "18/18 [==============================] - 0s 4ms/step - loss: 0.0045 - last_time_step_mse: 0.0045 - val_loss: 0.0015 - val_last_time_step_mse: 0.0015\n",
      "Epoch 80/100\n",
      "18/18 [==============================] - 0s 5ms/step - loss: 0.0056 - last_time_step_mse: 0.0056 - val_loss: 0.0015 - val_last_time_step_mse: 0.0015\n",
      "Epoch 81/100\n",
      "18/18 [==============================] - 0s 4ms/step - loss: 0.0055 - last_time_step_mse: 0.0055 - val_loss: 0.0016 - val_last_time_step_mse: 0.0015\n",
      "Epoch 82/100\n",
      "18/18 [==============================] - 0s 4ms/step - loss: 0.0066 - last_time_step_mse: 0.0066 - val_loss: 0.0014 - val_last_time_step_mse: 0.0014\n",
      "Epoch 83/100\n",
      "18/18 [==============================] - 0s 4ms/step - loss: 0.0052 - last_time_step_mse: 0.0052 - val_loss: 0.0014 - val_last_time_step_mse: 0.0014\n",
      "Epoch 84/100\n",
      "18/18 [==============================] - 0s 4ms/step - loss: 0.0058 - last_time_step_mse: 0.0058 - val_loss: 0.0014 - val_last_time_step_mse: 0.0014\n",
      "Epoch 85/100\n",
      "18/18 [==============================] - 0s 4ms/step - loss: 0.0057 - last_time_step_mse: 0.0057 - val_loss: 0.0015 - val_last_time_step_mse: 0.0015\n",
      "Epoch 86/100\n",
      "18/18 [==============================] - 0s 4ms/step - loss: 0.0044 - last_time_step_mse: 0.0044 - val_loss: 0.0014 - val_last_time_step_mse: 0.0014\n",
      "Epoch 87/100\n",
      "18/18 [==============================] - 0s 4ms/step - loss: 0.0051 - last_time_step_mse: 0.0051 - val_loss: 0.0014 - val_last_time_step_mse: 0.0014\n",
      "Epoch 88/100\n",
      "18/18 [==============================] - 0s 4ms/step - loss: 0.0052 - last_time_step_mse: 0.0052 - val_loss: 0.0014 - val_last_time_step_mse: 0.0013\n",
      "Epoch 89/100\n",
      "18/18 [==============================] - 0s 4ms/step - loss: 0.0053 - last_time_step_mse: 0.0053 - val_loss: 0.0016 - val_last_time_step_mse: 0.0016\n",
      "Epoch 90/100\n",
      "18/18 [==============================] - 0s 6ms/step - loss: 0.0061 - last_time_step_mse: 0.0061 - val_loss: 0.0016 - val_last_time_step_mse: 0.0016\n",
      "Epoch 91/100\n",
      "18/18 [==============================] - 0s 3ms/step - loss: 0.0054 - last_time_step_mse: 0.0054 - val_loss: 0.0013 - val_last_time_step_mse: 0.0013\n",
      "Epoch 92/100\n",
      "18/18 [==============================] - 0s 4ms/step - loss: 0.0046 - last_time_step_mse: 0.0046 - val_loss: 0.0015 - val_last_time_step_mse: 0.0015\n",
      "Epoch 93/100\n",
      "18/18 [==============================] - 0s 4ms/step - loss: 0.0050 - last_time_step_mse: 0.0050 - val_loss: 0.0013 - val_last_time_step_mse: 0.0013\n",
      "Epoch 94/100\n",
      "18/18 [==============================] - 0s 4ms/step - loss: 0.0049 - last_time_step_mse: 0.0049 - val_loss: 0.0015 - val_last_time_step_mse: 0.0014\n",
      "Epoch 95/100\n",
      "18/18 [==============================] - 0s 4ms/step - loss: 0.0053 - last_time_step_mse: 0.0053 - val_loss: 0.0013 - val_last_time_step_mse: 0.0013\n",
      "Epoch 96/100\n",
      "18/18 [==============================] - 0s 4ms/step - loss: 0.0046 - last_time_step_mse: 0.0046 - val_loss: 0.0013 - val_last_time_step_mse: 0.0013\n",
      "Epoch 97/100\n",
      "18/18 [==============================] - 0s 4ms/step - loss: 0.0041 - last_time_step_mse: 0.0041 - val_loss: 0.0013 - val_last_time_step_mse: 0.0013\n",
      "Epoch 98/100\n",
      "18/18 [==============================] - 0s 3ms/step - loss: 0.0048 - last_time_step_mse: 0.0048 - val_loss: 0.0013 - val_last_time_step_mse: 0.0013\n",
      "Epoch 99/100\n",
      "18/18 [==============================] - 0s 4ms/step - loss: 0.0046 - last_time_step_mse: 0.0046 - val_loss: 0.0013 - val_last_time_step_mse: 0.0013\n",
      "Epoch 100/100\n",
      "18/18 [==============================] - 0s 4ms/step - loss: 0.0048 - last_time_step_mse: 0.0048 - val_loss: 0.0013 - val_last_time_step_mse: 0.0013\n",
      "Model: \"sequential_2\"\n",
      "_________________________________________________________________\n",
      " Layer (type)                Output Shape              Param #   \n"
     ]
    },
    {
     "name": "stdout",
     "output_type": "stream",
     "text": [
      "=================================================================\n",
      " gru_2 (GRU)                 (None, 1, 50)             10800     \n",
      "                                                                 \n",
      " dropout_2 (Dropout)         (None, 1, 50)             0         \n",
      "                                                                 \n",
      " dense_2 (Dense)             (None, 1, 1)              51        \n",
      "                                                                 \n",
      "=================================================================\n",
      "Total params: 10,851\n",
      "Trainable params: 10,851\n",
      "Non-trainable params: 0\n",
      "_________________________________________________________________\n"
     ]
    }
   ],
   "source": [
    "history = model.fit(X_train, Y_train, epochs = 100, batch_size = 20, \n",
    "              validation_data = (X_test, Y_test), shuffle = False)\n",
    "\n",
    "model.summary()"
   ]
  },
  {
   "cell_type": "code",
   "execution_count": 17,
   "id": "c1580d28",
   "metadata": {},
   "outputs": [],
   "source": [
    "def plot_loss(train_loss, val_loss, Title, y_max, n_steps):\n",
    "    x = [i for i in range(0, len(train_loss))] #array of the validation loss\n",
    "    y= train_loss                            #training loss\n",
    "    plt.plot(x,y)\n",
    "    \n",
    "    x = [i for i in range(0, len(val_loss))] #array of the validation loss\n",
    "    y= val_loss                              #validation loss\n",
    "    plt.plot(x,y)                            #plotting validation loss versus training loss\n",
    "    \n",
    "    plt.ylabel('Loss')\n",
    "    plt.xlabel('Steps')\n",
    "    plt.xticks(x)\n",
    "    plt.ylim(y_max)\n",
    "    plt.ylim(ymin=0)\n",
    "    plt.xlim(xmin=0)\n",
    "    plt.xlim(xmax=n_steps)\n",
    "    plt.grid(True)\n",
    "    ax = plt.gca()\n",
    "    ax.set_xticks(ax.get_xticks()[::4])\n",
    "    plt.title(Title)\n",
    "    plt.show()"
   ]
  },
  {
   "cell_type": "code",
   "execution_count": 26,
   "id": "45d79dc3",
   "metadata": {},
   "outputs": [
    {
     "name": "stdout",
     "output_type": "stream",
     "text": [
      "dict_keys(['loss', 'last_time_step_mse', 'val_loss', 'val_last_time_step_mse'])\n",
      "0.12604784965515137\n"
     ]
    }
   ],
   "source": [
    "history_dict = history.history #model.fit returns a history callback containing the loss for each epoch\n",
    "print(history_dict.keys())\n",
    "y_max = max(history.history['loss'])\n",
    "print(y_max)"
   ]
  },
  {
   "cell_type": "code",
   "execution_count": 27,
   "id": "08e1aa59",
   "metadata": {},
   "outputs": [
    {
     "data": {
      "image/png": "[encoded data removed]",
      "text/plain": [
       "<Figure size 432x288 with 1 Axes>"
      ]
     },
     "metadata": {
      "needs_background": "light"
     },
     "output_type": "display_data"
    }
   ],
   "source": [
    "plot_loss(history.history['loss'], history.history['val_loss'], 'Loss', y_max, 100) \n",
    "#loss seems on point "
   ]
  },
  {
   "cell_type": "code",
   "execution_count": 28,
   "id": "8e82fcd7",
   "metadata": {},
   "outputs": [
    {
     "name": "stdout",
     "output_type": "stream",
     "text": [
      "3/3 [==============================] - 0s 2ms/step - loss: 0.0013 - last_time_step_mse: 0.0012\n"
     ]
    },
    {
     "data": {
      "text/plain": [
       "[0.0013267465401440859, 0.0012081890599802136]"
      ]
     },
     "execution_count": 28,
     "metadata": {},
     "output_type": "execute_result"
    }
   ],
   "source": [
    "model.evaluate(X_test, Y_test)"
   ]
  },
  {
   "cell_type": "code",
   "execution_count": 30,
   "id": "fb616e8d",
   "metadata": {},
   "outputs": [
    {
     "data": {
      "text/plain": [
       "477"
      ]
     },
     "execution_count": 30,
     "metadata": {},
     "output_type": "execute_result"
    }
   ],
   "source": [
    "len(data)"
   ]
  },
  {
   "cell_type": "code",
   "execution_count": 32,
   "id": "5ef9977b",
   "metadata": {},
   "outputs": [
    {
     "name": "stderr",
     "output_type": "stream",
     "text": [
      "2022-10-05 12:01:55.223564: W tensorflow/core/framework/op_kernel.cc:1745] OP_REQUIRES failed at transpose_op.cc:142 : INVALID_ARGUMENT: transpose expects a vector of size 2. But input(1) is a vector of size 3\n"
     ]
    },
    {
     "ename": "InvalidArgumentError",
     "evalue": "Graph execution error:\n\nDetected at node 'sequential_2/gru_2/transpose' defined at (most recent call last):\n    File \"/Library/Frameworks/Python.framework/Versions/3.10/lib/python3.10/runpy.py\", line 196, in _run_module_as_main\n      return _run_code(code, main_globals, None,\n    File \"/Library/Frameworks/Python.framework/Versions/3.10/lib/python3.10/runpy.py\", line 86, in _run_code\n      exec(code, run_globals)\n    File \"/Users/MacArthur/projects/Coding/machine_learning/master_env/lib/python3.10/site-packages/ipykernel_launcher.py\", line 17, in <module>\n      app.launch_new_instance()\n    File \"/Users/MacArthur/projects/Coding/machine_learning/master_env/lib/python3.10/site-packages/traitlets/config/application.py\", line 976, in launch_instance\n      app.start()\n    File \"/Users/MacArthur/projects/Coding/machine_learning/master_env/lib/python3.10/site-packages/ipykernel/kernelapp.py\", line 712, in start\n      self.io_loop.start()\n    File \"/Users/MacArthur/projects/Coding/machine_learning/master_env/lib/python3.10/site-packages/tornado/platform/asyncio.py\", line 199, in start\n      self.asyncio_loop.run_forever()\n    File \"/Library/Frameworks/Python.framework/Versions/3.10/lib/python3.10/asyncio/base_events.py\", line 595, in run_forever\n      self._run_once()\n    File \"/Library/Frameworks/Python.framework/Versions/3.10/lib/python3.10/asyncio/base_events.py\", line 1881, in _run_once\n      handle._run()\n    File \"/Library/Frameworks/Python.framework/Versions/3.10/lib/python3.10/asyncio/events.py\", line 80, in _run\n      self._context.run(self._callback, *self._args)\n    File \"/Users/MacArthur/projects/Coding/machine_learning/master_env/lib/python3.10/site-packages/ipykernel/kernelbase.py\", line 508, in dispatch_queue\n      await self.process_one()\n    File \"/Users/MacArthur/projects/Coding/machine_learning/master_env/lib/python3.10/site-packages/ipykernel/kernelbase.py\", line 497, in process_one\n      await dispatch(*args)\n    File \"/Users/MacArthur/projects/Coding/machine_learning/master_env/lib/python3.10/site-packages/ipykernel/kernelbase.py\", line 404, in dispatch_shell\n      await result\n    File \"/Users/MacArthur/projects/Coding/machine_learning/master_env/lib/python3.10/site-packages/ipykernel/kernelbase.py\", line 728, in execute_request\n      reply_content = await reply_content\n    File \"/Users/MacArthur/projects/Coding/machine_learning/master_env/lib/python3.10/site-packages/ipykernel/ipkernel.py\", line 383, in do_execute\n      res = shell.run_cell(\n    File \"/Users/MacArthur/projects/Coding/machine_learning/master_env/lib/python3.10/site-packages/ipykernel/zmqshell.py\", line 528, in run_cell\n      return super().run_cell(*args, **kwargs)\n    File \"/Users/MacArthur/projects/Coding/machine_learning/master_env/lib/python3.10/site-packages/IPython/core/interactiveshell.py\", line 2881, in run_cell\n      result = self._run_cell(\n    File \"/Users/MacArthur/projects/Coding/machine_learning/master_env/lib/python3.10/site-packages/IPython/core/interactiveshell.py\", line 2936, in _run_cell\n      return runner(coro)\n    File \"/Users/MacArthur/projects/Coding/machine_learning/master_env/lib/python3.10/site-packages/IPython/core/async_helpers.py\", line 129, in _pseudo_sync_runner\n      coro.send(None)\n    File \"/Users/MacArthur/projects/Coding/machine_learning/master_env/lib/python3.10/site-packages/IPython/core/interactiveshell.py\", line 3135, in run_cell_async\n      has_raised = await self.run_ast_nodes(code_ast.body, cell_name,\n    File \"/Users/MacArthur/projects/Coding/machine_learning/master_env/lib/python3.10/site-packages/IPython/core/interactiveshell.py\", line 3338, in run_ast_nodes\n      if await self.run_code(code, result, async_=asy):\n    File \"/Users/MacArthur/projects/Coding/machine_learning/master_env/lib/python3.10/site-packages/IPython/core/interactiveshell.py\", line 3398, in run_code\n      exec(code_obj, self.user_global_ns, self.user_ns)\n    File \"/var/folders/b8/4rt4232d25lfcbqgf1dykzf80000gn/T/ipykernel_70342/2424451323.py\", line 2, in <cell line: 2>\n      Y_pred = model.predict(X_new)[:, -1][..., np.newaxis]\n    File \"/Users/MacArthur/projects/Coding/machine_learning/master_env/lib/python3.10/site-packages/keras/utils/traceback_utils.py\", line 64, in error_handler\n      return fn(*args, **kwargs)\n    File \"/Users/MacArthur/projects/Coding/machine_learning/master_env/lib/python3.10/site-packages/keras/engine/training.py\", line 2033, in predict\n      tmp_batch_outputs = self.predict_function(iterator)\n    File \"/Users/MacArthur/projects/Coding/machine_learning/master_env/lib/python3.10/site-packages/keras/engine/training.py\", line 1845, in predict_function\n      return step_function(self, iterator)\n    File \"/Users/MacArthur/projects/Coding/machine_learning/master_env/lib/python3.10/site-packages/keras/engine/training.py\", line 1834, in step_function\n      outputs = model.distribute_strategy.run(run_step, args=(data,))\n    File \"/Users/MacArthur/projects/Coding/machine_learning/master_env/lib/python3.10/site-packages/keras/engine/training.py\", line 1823, in run_step\n      outputs = model.predict_step(data)\n    File \"/Users/MacArthur/projects/Coding/machine_learning/master_env/lib/python3.10/site-packages/keras/engine/training.py\", line 1791, in predict_step\n      return self(x, training=False)\n    File \"/Users/MacArthur/projects/Coding/machine_learning/master_env/lib/python3.10/site-packages/keras/utils/traceback_utils.py\", line 64, in error_handler\n      return fn(*args, **kwargs)\n    File \"/Users/MacArthur/projects/Coding/machine_learning/master_env/lib/python3.10/site-packages/keras/engine/training.py\", line 490, in __call__\n      return super().__call__(*args, **kwargs)\n    File \"/Users/MacArthur/projects/Coding/machine_learning/master_env/lib/python3.10/site-packages/keras/utils/traceback_utils.py\", line 64, in error_handler\n      return fn(*args, **kwargs)\n    File \"/Users/MacArthur/projects/Coding/machine_learning/master_env/lib/python3.10/site-packages/keras/engine/base_layer.py\", line 1014, in __call__\n      outputs = call_fn(inputs, *args, **kwargs)\n    File \"/Users/MacArthur/projects/Coding/machine_learning/master_env/lib/python3.10/site-packages/keras/utils/traceback_utils.py\", line 92, in error_handler\n      return fn(*args, **kwargs)\n    File \"/Users/MacArthur/projects/Coding/machine_learning/master_env/lib/python3.10/site-packages/keras/engine/sequential.py\", line 374, in call\n      return super(Sequential, self).call(inputs, training=training, mask=mask)\n    File \"/Users/MacArthur/projects/Coding/machine_learning/master_env/lib/python3.10/site-packages/keras/engine/functional.py\", line 458, in call\n      return self._run_internal_graph(\n    File \"/Users/MacArthur/projects/Coding/machine_learning/master_env/lib/python3.10/site-packages/keras/engine/functional.py\", line 596, in _run_internal_graph\n      outputs = node.layer(*args, **kwargs)\n    File \"/Users/MacArthur/projects/Coding/machine_learning/master_env/lib/python3.10/site-packages/keras/layers/rnn/base_rnn.py\", line 515, in __call__\n      return super(RNN, self).__call__(inputs, **kwargs)\n    File \"/Users/MacArthur/projects/Coding/machine_learning/master_env/lib/python3.10/site-packages/keras/utils/traceback_utils.py\", line 64, in error_handler\n      return fn(*args, **kwargs)\n    File \"/Users/MacArthur/projects/Coding/machine_learning/master_env/lib/python3.10/site-packages/keras/engine/base_layer.py\", line 1014, in __call__\n      outputs = call_fn(inputs, *args, **kwargs)\n    File \"/Users/MacArthur/projects/Coding/machine_learning/master_env/lib/python3.10/site-packages/keras/utils/traceback_utils.py\", line 92, in error_handler\n      return fn(*args, **kwargs)\n    File \"/Users/MacArthur/projects/Coding/machine_learning/master_env/lib/python3.10/site-packages/keras/layers/rnn/gru.py\", line 591, in call\n      last_output, outputs, states = backend.rnn(\n    File \"/Users/MacArthur/projects/Coding/machine_learning/master_env/lib/python3.10/site-packages/keras/backend.py\", line 4476, in rnn\n      inputs = tf.nest.map_structure(swap_batch_timestep, inputs)\n    File \"/Users/MacArthur/projects/Coding/machine_learning/master_env/lib/python3.10/site-packages/keras/backend.py\", line 4473, in swap_batch_timestep\n      return tf.compat.v1.transpose(input_t, axes)\nNode: 'sequential_2/gru_2/transpose'\ntranspose expects a vector of size 2. But input(1) is a vector of size 3\n\t [[{{node sequential_2/gru_2/transpose}}]] [Op:__inference_predict_function_22471]",
     "output_type": "error",
     "traceback": [
      "\u001b[0;31m---------------------------------------------------------------------------\u001b[0m",
      "\u001b[0;31mInvalidArgumentError\u001b[0m                      Traceback (most recent call last)",
      "Input \u001b[0;32mIn [32]\u001b[0m, in \u001b[0;36m<cell line: 2>\u001b[0;34m()\u001b[0m\n\u001b[1;32m      1\u001b[0m X_new, Y_new \u001b[38;5;241m=\u001b[39m data[:\u001b[38;5;241m425\u001b[39m], data[\u001b[38;5;241m425\u001b[39m:]\n\u001b[0;32m----> 2\u001b[0m Y_pred \u001b[38;5;241m=\u001b[39m \u001b[43mmodel\u001b[49m\u001b[38;5;241;43m.\u001b[39;49m\u001b[43mpredict\u001b[49m\u001b[43m(\u001b[49m\u001b[43mX_new\u001b[49m\u001b[43m)\u001b[49m\n",
      "File \u001b[0;32m~/projects/Coding/machine_learning/master_env/lib/python3.10/site-packages/keras/utils/traceback_utils.py:67\u001b[0m, in \u001b[0;36mfilter_traceback.<locals>.error_handler\u001b[0;34m(*args, **kwargs)\u001b[0m\n\u001b[1;32m     65\u001b[0m \u001b[38;5;28;01mexcept\u001b[39;00m \u001b[38;5;167;01mException\u001b[39;00m \u001b[38;5;28;01mas\u001b[39;00m e:  \u001b[38;5;66;03m# pylint: disable=broad-except\u001b[39;00m\n\u001b[1;32m     66\u001b[0m   filtered_tb \u001b[38;5;241m=\u001b[39m _process_traceback_frames(e\u001b[38;5;241m.\u001b[39m__traceback__)\n\u001b[0;32m---> 67\u001b[0m   \u001b[38;5;28;01mraise\u001b[39;00m e\u001b[38;5;241m.\u001b[39mwith_traceback(filtered_tb) \u001b[38;5;28;01mfrom\u001b[39;00m \u001b[38;5;28mNone\u001b[39m\n\u001b[1;32m     68\u001b[0m \u001b[38;5;28;01mfinally\u001b[39;00m:\n\u001b[1;32m     69\u001b[0m   \u001b[38;5;28;01mdel\u001b[39;00m filtered_tb\n",
      "File \u001b[0;32m~/projects/Coding/machine_learning/master_env/lib/python3.10/site-packages/tensorflow/python/eager/execute.py:54\u001b[0m, in \u001b[0;36mquick_execute\u001b[0;34m(op_name, num_outputs, inputs, attrs, ctx, name)\u001b[0m\n\u001b[1;32m     52\u001b[0m \u001b[38;5;28;01mtry\u001b[39;00m:\n\u001b[1;32m     53\u001b[0m   ctx\u001b[38;5;241m.\u001b[39mensure_initialized()\n\u001b[0;32m---> 54\u001b[0m   tensors \u001b[38;5;241m=\u001b[39m pywrap_tfe\u001b[38;5;241m.\u001b[39mTFE_Py_Execute(ctx\u001b[38;5;241m.\u001b[39m_handle, device_name, op_name,\n\u001b[1;32m     55\u001b[0m                                       inputs, attrs, num_outputs)\n\u001b[1;32m     56\u001b[0m \u001b[38;5;28;01mexcept\u001b[39;00m core\u001b[38;5;241m.\u001b[39m_NotOkStatusException \u001b[38;5;28;01mas\u001b[39;00m e:\n\u001b[1;32m     57\u001b[0m   \u001b[38;5;28;01mif\u001b[39;00m name \u001b[38;5;129;01mis\u001b[39;00m \u001b[38;5;129;01mnot\u001b[39;00m \u001b[38;5;28;01mNone\u001b[39;00m:\n",
      "\u001b[0;31mInvalidArgumentError\u001b[0m: Graph execution error:\n\nDetected at node 'sequential_2/gru_2/transpose' defined at (most recent call last):\n    File \"/Library/Frameworks/Python.framework/Versions/3.10/lib/python3.10/runpy.py\", line 196, in _run_module_as_main\n      return _run_code(code, main_globals, None,\n    File \"/Library/Frameworks/Python.framework/Versions/3.10/lib/python3.10/runpy.py\", line 86, in _run_code\n      exec(code, run_globals)\n    File \"/Users/MacArthur/projects/Coding/machine_learning/master_env/lib/python3.10/site-packages/ipykernel_launcher.py\", line 17, in <module>\n      app.launch_new_instance()\n    File \"/Users/MacArthur/projects/Coding/machine_learning/master_env/lib/python3.10/site-packages/traitlets/config/application.py\", line 976, in launch_instance\n      app.start()\n    File \"/Users/MacArthur/projects/Coding/machine_learning/master_env/lib/python3.10/site-packages/ipykernel/kernelapp.py\", line 712, in start\n      self.io_loop.start()\n    File \"/Users/MacArthur/projects/Coding/machine_learning/master_env/lib/python3.10/site-packages/tornado/platform/asyncio.py\", line 199, in start\n      self.asyncio_loop.run_forever()\n    File \"/Library/Frameworks/Python.framework/Versions/3.10/lib/python3.10/asyncio/base_events.py\", line 595, in run_forever\n      self._run_once()\n    File \"/Library/Frameworks/Python.framework/Versions/3.10/lib/python3.10/asyncio/base_events.py\", line 1881, in _run_once\n      handle._run()\n    File \"/Library/Frameworks/Python.framework/Versions/3.10/lib/python3.10/asyncio/events.py\", line 80, in _run\n      self._context.run(self._callback, *self._args)\n    File \"/Users/MacArthur/projects/Coding/machine_learning/master_env/lib/python3.10/site-packages/ipykernel/kernelbase.py\", line 508, in dispatch_queue\n      await self.process_one()\n    File \"/Users/MacArthur/projects/Coding/machine_learning/master_env/lib/python3.10/site-packages/ipykernel/kernelbase.py\", line 497, in process_one\n      await dispatch(*args)\n    File \"/Users/MacArthur/projects/Coding/machine_learning/master_env/lib/python3.10/site-packages/ipykernel/kernelbase.py\", line 404, in dispatch_shell\n      await result\n    File \"/Users/MacArthur/projects/Coding/machine_learning/master_env/lib/python3.10/site-packages/ipykernel/kernelbase.py\", line 728, in execute_request\n      reply_content = await reply_content\n    File \"/Users/MacArthur/projects/Coding/machine_learning/master_env/lib/python3.10/site-packages/ipykernel/ipkernel.py\", line 383, in do_execute\n      res = shell.run_cell(\n    File \"/Users/MacArthur/projects/Coding/machine_learning/master_env/lib/python3.10/site-packages/ipykernel/zmqshell.py\", line 528, in run_cell\n      return super().run_cell(*args, **kwargs)\n    File \"/Users/MacArthur/projects/Coding/machine_learning/master_env/lib/python3.10/site-packages/IPython/core/interactiveshell.py\", line 2881, in run_cell\n      result = self._run_cell(\n    File \"/Users/MacArthur/projects/Coding/machine_learning/master_env/lib/python3.10/site-packages/IPython/core/interactiveshell.py\", line 2936, in _run_cell\n      return runner(coro)\n    File \"/Users/MacArthur/projects/Coding/machine_learning/master_env/lib/python3.10/site-packages/IPython/core/async_helpers.py\", line 129, in _pseudo_sync_runner\n      coro.send(None)\n    File \"/Users/MacArthur/projects/Coding/machine_learning/master_env/lib/python3.10/site-packages/IPython/core/interactiveshell.py\", line 3135, in run_cell_async\n      has_raised = await self.run_ast_nodes(code_ast.body, cell_name,\n    File \"/Users/MacArthur/projects/Coding/machine_learning/master_env/lib/python3.10/site-packages/IPython/core/interactiveshell.py\", line 3338, in run_ast_nodes\n      if await self.run_code(code, result, async_=asy):\n    File \"/Users/MacArthur/projects/Coding/machine_learning/master_env/lib/python3.10/site-packages/IPython/core/interactiveshell.py\", line 3398, in run_code\n      exec(code_obj, self.user_global_ns, self.user_ns)\n    File \"/var/folders/b8/4rt4232d25lfcbqgf1dykzf80000gn/T/ipykernel_70342/2424451323.py\", line 2, in <cell line: 2>\n      Y_pred = model.predict(X_new)[:, -1][..., np.newaxis]\n    File \"/Users/MacArthur/projects/Coding/machine_learning/master_env/lib/python3.10/site-packages/keras/utils/traceback_utils.py\", line 64, in error_handler\n      return fn(*args, **kwargs)\n    File \"/Users/MacArthur/projects/Coding/machine_learning/master_env/lib/python3.10/site-packages/keras/engine/training.py\", line 2033, in predict\n      tmp_batch_outputs = self.predict_function(iterator)\n    File \"/Users/MacArthur/projects/Coding/machine_learning/master_env/lib/python3.10/site-packages/keras/engine/training.py\", line 1845, in predict_function\n      return step_function(self, iterator)\n    File \"/Users/MacArthur/projects/Coding/machine_learning/master_env/lib/python3.10/site-packages/keras/engine/training.py\", line 1834, in step_function\n      outputs = model.distribute_strategy.run(run_step, args=(data,))\n    File \"/Users/MacArthur/projects/Coding/machine_learning/master_env/lib/python3.10/site-packages/keras/engine/training.py\", line 1823, in run_step\n      outputs = model.predict_step(data)\n    File \"/Users/MacArthur/projects/Coding/machine_learning/master_env/lib/python3.10/site-packages/keras/engine/training.py\", line 1791, in predict_step\n      return self(x, training=False)\n    File \"/Users/MacArthur/projects/Coding/machine_learning/master_env/lib/python3.10/site-packages/keras/utils/traceback_utils.py\", line 64, in error_handler\n      return fn(*args, **kwargs)\n    File \"/Users/MacArthur/projects/Coding/machine_learning/master_env/lib/python3.10/site-packages/keras/engine/training.py\", line 490, in __call__\n      return super().__call__(*args, **kwargs)\n    File \"/Users/MacArthur/projects/Coding/machine_learning/master_env/lib/python3.10/site-packages/keras/utils/traceback_utils.py\", line 64, in error_handler\n      return fn(*args, **kwargs)\n    File \"/Users/MacArthur/projects/Coding/machine_learning/master_env/lib/python3.10/site-packages/keras/engine/base_layer.py\", line 1014, in __call__\n      outputs = call_fn(inputs, *args, **kwargs)\n    File \"/Users/MacArthur/projects/Coding/machine_learning/master_env/lib/python3.10/site-packages/keras/utils/traceback_utils.py\", line 92, in error_handler\n      return fn(*args, **kwargs)\n    File \"/Users/MacArthur/projects/Coding/machine_learning/master_env/lib/python3.10/site-packages/keras/engine/sequential.py\", line 374, in call\n      return super(Sequential, self).call(inputs, training=training, mask=mask)\n    File \"/Users/MacArthur/projects/Coding/machine_learning/master_env/lib/python3.10/site-packages/keras/engine/functional.py\", line 458, in call\n      return self._run_internal_graph(\n    File \"/Users/MacArthur/projects/Coding/machine_learning/master_env/lib/python3.10/site-packages/keras/engine/functional.py\", line 596, in _run_internal_graph\n      outputs = node.layer(*args, **kwargs)\n    File \"/Users/MacArthur/projects/Coding/machine_learning/master_env/lib/python3.10/site-packages/keras/layers/rnn/base_rnn.py\", line 515, in __call__\n      return super(RNN, self).__call__(inputs, **kwargs)\n    File \"/Users/MacArthur/projects/Coding/machine_learning/master_env/lib/python3.10/site-packages/keras/utils/traceback_utils.py\", line 64, in error_handler\n      return fn(*args, **kwargs)\n    File \"/Users/MacArthur/projects/Coding/machine_learning/master_env/lib/python3.10/site-packages/keras/engine/base_layer.py\", line 1014, in __call__\n      outputs = call_fn(inputs, *args, **kwargs)\n    File \"/Users/MacArthur/projects/Coding/machine_learning/master_env/lib/python3.10/site-packages/keras/utils/traceback_utils.py\", line 92, in error_handler\n      return fn(*args, **kwargs)\n    File \"/Users/MacArthur/projects/Coding/machine_learning/master_env/lib/python3.10/site-packages/keras/layers/rnn/gru.py\", line 591, in call\n      last_output, outputs, states = backend.rnn(\n    File \"/Users/MacArthur/projects/Coding/machine_learning/master_env/lib/python3.10/site-packages/keras/backend.py\", line 4476, in rnn\n      inputs = tf.nest.map_structure(swap_batch_timestep, inputs)\n    File \"/Users/MacArthur/projects/Coding/machine_learning/master_env/lib/python3.10/site-packages/keras/backend.py\", line 4473, in swap_batch_timestep\n      return tf.compat.v1.transpose(input_t, axes)\nNode: 'sequential_2/gru_2/transpose'\ntranspose expects a vector of size 2. But input(1) is a vector of size 3\n\t [[{{node sequential_2/gru_2/transpose}}]] [Op:__inference_predict_function_22471]"
     ]
    }
   ],
   "source": [
    "X_new, Y_new = data[:425], data[425:]\n",
    "Y_pred = model.predict(X_new)"
   ]
  },
  {
   "cell_type": "code",
   "execution_count": null,
   "id": "3d3ba35f",
   "metadata": {},
   "outputs": [],
   "source": []
  }
 ],
 "metadata": {
  "kernelspec": {
   "display_name": "Python 3 (ipykernel)",
   "language": "python",
   "name": "python3"
  },
  "language_info": {
   "codemirror_mode": {
    "name": "ipython",
    "version": 3
   },
   "file_extension": ".py",
   "mimetype": "text/x-python",
   "name": "python",
   "nbconvert_exporter": "python",
   "pygments_lexer": "ipython3",
   "version": "3.10.2"
  }
 },
 "nbformat": 4,
 "nbformat_minor": 5
}
